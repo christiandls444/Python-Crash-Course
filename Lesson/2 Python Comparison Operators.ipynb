{
 "cells": [
  {
   "attachments": {},
   "cell_type": "markdown",
   "metadata": {},
   "source": [
    "### Python Operators\n",
    "- Arithmetic Operators\n",
    "- Assignment Operators\n",
    "- Comparison Operators\n",
    "- Logical Operators"
   ]
  },
  {
   "attachments": {},
   "cell_type": "markdown",
   "metadata": {},
   "source": [
    "### Arithmetic"
   ]
  },
  {
   "cell_type": "code",
   "execution_count": 2,
   "metadata": {},
   "outputs": [
    {
     "name": "stdout",
     "output_type": "stream",
     "text": [
      "Addition 2 + 3 = 5\n",
      "Subtraction 2 - 3 = -1\n",
      "Multiplication 2 * 3 = 6\n",
      "Division 2 / 3 = 0.67\n",
      "Modulus 2 % 3 = 2\n",
      "Exponentiation 2 ** 3 = 8\n",
      "Floor division 2 // 3 = 0\n"
     ]
    }
   ],
   "source": [
    "var_one = 2\n",
    "var_two = 3\n",
    "\n",
    "\n",
    "# Addition\n",
    "add = var_one + var_two\n",
    "print(\"Addition\",var_one,\"+\",var_two,\"=\",add)\n",
    "\n",
    "# Subtraction\n",
    "sub = var_one - var_two\n",
    "print(\"Subtraction\",var_one,\"-\",var_two,\"=\",sub)\n",
    "\n",
    "# Multiplication\n",
    "mul = var_one * var_two\n",
    "print(\"Multiplication\",var_one,\"*\",var_two,\"=\",mul)\n",
    "\n",
    "# Division\n",
    "div = var_one / var_two\n",
    "print(\"Division\",var_one,\"/\",var_two,\"=\",round(div, 2))\n",
    "\n",
    "# Modulus\n",
    "mod = var_one % var_two\n",
    "print(\"Modulus\",var_one,\"%\",var_two,\"=\",mod)\n",
    "\n",
    "# Exponentiation\n",
    "exp = var_one ** var_two\n",
    "print(\"Exponentiation\",var_one,\"**\",var_two,\"=\",exp)\n",
    "\n",
    "# Floor division\n",
    "floor_div = var_one // var_two\n",
    "print(\"Floor division\",var_one,\"//\",var_two,\"=\",floor_div)\n"
   ]
  },
  {
   "cell_type": "code",
   "execution_count": 3,
   "metadata": {},
   "outputs": [
    {
     "name": "stdout",
     "output_type": "stream",
     "text": [
      "6\n"
     ]
    }
   ],
   "source": [
    "a = 6 # Assign value\n",
    "b = a # Assign the expression to the left operand\n",
    "print(b)"
   ]
  },
  {
   "cell_type": "code",
   "execution_count": null,
   "metadata": {},
   "outputs": [],
   "source": []
  }
 ],
 "metadata": {
  "kernelspec": {
   "display_name": "Python 3",
   "language": "python",
   "name": "python3"
  },
  "language_info": {
   "codemirror_mode": {
    "name": "ipython",
    "version": 3
   },
   "file_extension": ".py",
   "mimetype": "text/x-python",
   "name": "python",
   "nbconvert_exporter": "python",
   "pygments_lexer": "ipython3",
   "version": "3.9.6 (default, Oct 18 2022, 12:41:40) \n[Clang 14.0.0 (clang-1400.0.29.202)]"
  },
  "orig_nbformat": 4,
  "vscode": {
   "interpreter": {
    "hash": "31f2aee4e71d21fbe5cf8b01ff0e069b9275f58929596ceb00d14d90e3e16cd6"
   }
  }
 },
 "nbformat": 4,
 "nbformat_minor": 2
}
