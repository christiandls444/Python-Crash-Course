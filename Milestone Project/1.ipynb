{
 "cells": [
  {
   "attachments": {},
   "cell_type": "markdown",
   "metadata": {},
   "source": [
    "# Project Milestone 1"
   ]
  },
  {
   "attachments": {},
   "cell_type": "markdown",
   "metadata": {},
   "source": [
    "<b>Question 1:</b><br/>\n",
    "Given Price = 300, use python to figure out the square root of the price.\n",
    "\n",
    "<b>Expected Output:</b><br/>\n",
    "17.320508075688775"
   ]
  },
  {
   "cell_type": "code",
   "execution_count": 65,
   "metadata": {},
   "outputs": [
    {
     "name": "stdout",
     "output_type": "stream",
     "text": [
      "17.320508075688775\n"
     ]
    }
   ],
   "source": [
    "import math;print(math.sqrt(300))"
   ]
  },
  {
   "attachments": {},
   "cell_type": "markdown",
   "metadata": {},
   "source": [
    "<b>Question 2:</b><br/>\n",
    "Given the String: Stock_index = \"SP500\", Grab 500 from the string using indexing and also show its indices.\n",
    "\n",
    "<b>Expected Output:</b><br/>\n",
    "Grabbed String = 500 (Make sure that the you are showing grabbed string only with the help of indexes). It was found in position 2, 3, 4"
   ]
  },
  {
   "cell_type": "code",
   "execution_count": 66,
   "metadata": {},
   "outputs": [
    {
     "name": "stdout",
     "output_type": "stream",
     "text": [
      "Grabbed String =  500\n"
     ]
    }
   ],
   "source": [
    "Stock_index = \"500\"\n",
    "print(\"Grabbed String = \", Stock_index[:3])"
   ]
  },
  {
   "attachments": {},
   "cell_type": "markdown",
   "metadata": {},
   "source": [
    "<b>Question 3:</b><br/>\n",
    "Given the variables: stock_index = \"SP500\" and price = 300, Use .format() to print the following string:\n",
    "\n",
    "<b>Expected Output:</b><br/>\n",
    "The SP500 is at 300 today"
   ]
  },
  {
   "cell_type": "code",
   "execution_count": 67,
   "metadata": {},
   "outputs": [
    {
     "name": "stdout",
     "output_type": "stream",
     "text": [
      "The price of SP500 is 300\n"
     ]
    }
   ],
   "source": [
    "stock_index = \"SP500\"\n",
    "price = 300\n",
    "print(\"The price of {0} is {1}\".format(stock_index, price))"
   ]
  },
  {
   "attachments": {},
   "cell_type": "markdown",
   "metadata": {},
   "source": [
    "<b>Question 4:</b><br/>\n",
    "\n",
    "Create stock_info dictionary as follows\n",
    "\n",
    "stock_info = {'reliance',{'today':300, 'yesterday': 250},<br/>\n",
    "'info':['Time',[24,7,365]]}<br/>\n",
    "\n",
    "Use indexing and key calls to print the ones as shown below<br/>\n",
    "\n",
    "<b>Expected Output 1:</b><br/>\n",
    "Yesterday's reliance share price was 250 pesos per share\n",
    "\n",
    "<b>Expected Output 2:</b><br/>\n",
    "The number 365 is nested inside a list nested inside the 'info' keys\n"
   ]
  },
  {
   "cell_type": "code",
   "execution_count": 68,
   "metadata": {},
   "outputs": [
    {
     "name": "stdout",
     "output_type": "stream",
     "text": [
      "Yesterday's reliance share price was 250 pesos per share\n",
      "The number 365 is nested inside a list nested inside the 'info' key\n"
     ]
    }
   ],
   "source": [
    "stock_info = {'reliance':{'today':300,'yesterday': 250},\n",
    "              'info':['Time',[24,7,365]]}\n",
    "print(\"Yesterday's reliance share price was\",stock_info['reliance']['yesterday'], \"pesos per share\")\n",
    "print(\"The number\",stock_info['info'][1][2], \"is nested inside a list nested inside the 'info' key\")"
   ]
  },
  {
   "attachments": {},
   "cell_type": "markdown",
   "metadata": {},
   "source": [
    "<b>Question 5:</b><br/>\n",
    "\n",
    "Create a function called price-finder that return True if the word 'price' in is the string:<br/>\n",
    "\n",
    "Your definition must accept different types of inputs as shown below:<br/>\n",
    "\n",
    "Input 1 = \"PRICE of 1 litre petrol is 45 pesos\"<br/>\n",
    "Input 2 = \"(PRICE) of 1 litre petrol is 45 pesos\"<br/>\n",
    "Input 3 = \"PrIce of 1 litre petrol is 45 pesos\"<br/>\n",
    "Input 4 = \"1 litre petrol price is 45 pesos\"<br/>\n",
    "Input 5 = \"cost of 1 litre is 54 pesos\"<br/>\n",
    "\n",
    "<b>Expected Output:</b><br/>\n",
    "True<br/>\n",
    "True<br/>\n",
    "True<br/>\n",
    "True<br/>\n",
    "False"
   ]
  },
  {
   "cell_type": "code",
   "execution_count": 73,
   "metadata": {},
   "outputs": [
    {
     "name": "stdout",
     "output_type": "stream",
     "text": [
      "True\n",
      "True\n",
      "True\n",
      "True\n",
      "False\n"
     ]
    }
   ],
   "source": [
    "def price_finder(string):\n",
    "    if 'PRICE' in string: return True\n",
    "    elif '(PRICE)' in string: return True\n",
    "    elif 'PrIcE' in string: return True\n",
    "    elif 'price' in string: return True\n",
    "    else: return False\n",
    "    \n",
    "print(price_finder(\"The PRICE of 1 litre petrol is 45 pesos\"))\n",
    "print(price_finder(\"The (PRICE) of 1 litre petrol is 45 pesos\"))\n",
    "print(price_finder(\"The PrIcE of 1 litre petrol is 45 pesos\"))\n",
    "print(price_finder(\"1 litre petrol price is 45 pesos\"))\n",
    "print(price_finder(\"cost litre 1 petrol is 45 pesos\"))"
   ]
  },
  {
   "attachments": {},
   "cell_type": "markdown",
   "metadata": {},
   "source": [
    "<b>Question 6:</b><br/>\n",
    "\n",
    "Write a function check_password that returns True if the input password\n",
    "satisfies the following criteria:<br/>\n",
    "\n",
    "<li>at least 8 characters in length</li>\n",
    "<li>contains at least one lowercase letter</li>\n",
    "<li>contains at least one uppercase letter</li>\n",
    "<li>contains at least one number</li>\n",
    "<li>contains \"#\" symbol</li>\n",
    "\n",
    "It shoud return False if at least one of the criteria is not satisfied.<br/>\n",
    "\n",
    "Use the following inputs to show the results:<br/>\n",
    "\n",
    "Input 1 = \"Bayan1#34\"<br/>\n",
    "Input 2 = \"academy@\"<br/>\n",
    "Input 3 = \"Madam1#\"<br/>\n",
    "\n",
    "<b>Expected Output:</b><br/>\n",
    "True</br>\n",
    "False</br>\n",
    "False"
   ]
  },
  {
   "cell_type": "code",
   "execution_count": 77,
   "metadata": {},
   "outputs": [
    {
     "name": "stdout",
     "output_type": "stream",
     "text": [
      "True\n",
      "False\n",
      "False\n"
     ]
    }
   ],
   "source": [
    "def check_password(password):\n",
    "    return (\n",
    "        len(password) >= 8 and\n",
    "        any(c.islower() for c in password) and\n",
    "        any(c.isupper() for c in password) and\n",
    "        any(c.isdigit() for c in password) and\n",
    "        \"#\" in password\n",
    "    )\n",
    "\n",
    "print(check_password(\"Bayan1#34\"))\n",
    "print(check_password(\"academy@\"))\n",
    "print(check_password(\"Madam1#\"))"
   ]
  },
  {
   "attachments": {},
   "cell_type": "markdown",
   "metadata": {},
   "source": [
    "<b>Question 7:<br/>\n",
    "\n",
    "Part 1: Convert Email to Full Name</b><br/>\n",
    "\n",
    "Create a function email to fullname (email) which accepts email as a string\n",
    "input parameter and return a string containing the first a last name separated\n",
    "by a comma. All characters in the string should be uppercase.<br/>\n",
    "\n",
    "<b>Input and expected outputs are as follows</b><br/>\n",
    "<table style=\"border: solid 1; text-align: left;\">\n",
    "        <tr>\n",
    "            <th>Input</th>\n",
    "            <th>Expected Output</th>\n",
    "        </tr>\n",
    "        <tr>\n",
    "            <td>cruz.acer@mymail.bayan.edu</td>\n",
    "            <td>ACER,CRUZ</td>\n",
    "        </tr>\n",
    "        <tr>\n",
    "            <td>Kendrick.jason@mymail.bayan.edu</td>\n",
    "            <td>JASON,KENDRICK</td>\n",
    "        </tr>\n",
    "</table>"
   ]
  },
  {
   "cell_type": "code",
   "execution_count": 122,
   "metadata": {},
   "outputs": [
    {
     "name": "stdout",
     "output_type": "stream",
     "text": [
      "ACER,CRUZ\n",
      "JASON,KENDRICK\n"
     ]
    }
   ],
   "source": [
    "def email_to_full_name(email):\n",
    "    name = email.split(\"@\")[0]\n",
    "    last_name, first_name = name.split(\".\")\n",
    "    return f\"{first_name.upper()},{last_name.upper()}\"\n",
    "\n",
    "print(email_to_full_name(\"cruz.acer@mymail.bayan.edu\"))\n",
    "print(email_to_full_name(\"Kendrick.jason@mymail.bayan.edu\"))"
   ]
  },
  {
   "attachments": {},
   "cell_type": "markdown",
   "metadata": {},
   "source": [
    "<b>Part 2: Calculate Average Grade</b><br/>\n",
    "\n",
    "For the second part this question, develop the function score-average(s) which accepts s as a string input parameter and returns the average of the four scores within the string as a float.<br/>\n",
    "\n",
    "<b>Input and expected outputs are as follows</b><br/>\n",
    "<table style=\"border: solid 1; text-align: left;\">\n",
    "        <tr>\n",
    "            <th>Input</th>\n",
    "            <th>Expected Output</th>\n",
    "        </tr>\n",
    "        <tr>\n",
    "            <td>0,50.4,80.3,95.9</td>\n",
    "            <td>56.65</td>\n",
    "        </tr>\n",
    "        <tr>\n",
    "            <td>99.9,91.3,99.2,98.0</td>\n",
    "            <td>97.1</td>\n",
    "        </tr>\n",
    "</table>"
   ]
  },
  {
   "cell_type": "code",
   "execution_count": 116,
   "metadata": {},
   "outputs": [
    {
     "name": "stdout",
     "output_type": "stream",
     "text": [
      "56.65\n",
      "97.1\n"
     ]
    }
   ],
   "source": [
    "def score_average(s):\n",
    "    scores = [float(x) for x in s.split(\",\")]\n",
    "    return sum(scores) / len(scores)\n",
    "\n",
    "print(score_average(\"0,50.4,80.3,95.9\"))\n",
    "print(score_average(\"99.9,91.3,99.2,98.0\"))\n"
   ]
  },
  {
   "attachments": {},
   "cell_type": "markdown",
   "metadata": {},
   "source": [
    "<b>Part 3: Showing final Output</b><br/>\n",
    "\n",
    "Create a function final-output which must combine the outputs of part1 & part2\n",
    "\n",
    "<b>Expected output:</b><br/>\n",
    "<ACER,CRUZ,56.65><br/>\n",
    "<JASON,KENDRICK,97.1>\n"
   ]
  },
  {
   "cell_type": "code",
   "execution_count": 129,
   "metadata": {},
   "outputs": [
    {
     "name": "stdout",
     "output_type": "stream",
     "text": [
      "ACER,CRUZ 56.65\n",
      "JASON,KENDRICK 97.1\n"
     ]
    }
   ],
   "source": [
    "print(email_to_full_name(\"cruz.acer@mymail.bayan.edu\"),score_average(\"0,50.4,80.3,95.9\"))\n",
    "print(email_to_full_name(\"Kendrick.jason@mymail.bayan.edu\"),score_average(\"99.9,91.3,99.2,98.0\"))"
   ]
  },
  {
   "attachments": {},
   "cell_type": "markdown",
   "metadata": {},
   "source": [
    "<b>Question 8:</b><br/>\n",
    "\n",
    "Write a function “prime-factorize” that will print the prime factors of an integer 0<𝑛<500<n<50. It should print the message, Out of range! if the input number is out of the given range. Include 1 in the prime factorization.<br/>\n",
    "\n",
    "<b>Expected inputs/output:</b><br/>\n",
    "prime_factorize(17)<br/>\n",
    "prime_factorize(0)<br/>\n",
    "prime_factorize(100)\n",
    "\n"
   ]
  },
  {
   "cell_type": "code",
   "execution_count": 152,
   "metadata": {},
   "outputs": [
    {
     "name": "stdout",
     "output_type": "stream",
     "text": [
      "17 1\n",
      "Out of range!\n",
      "Out of range!\n"
     ]
    }
   ],
   "source": [
    "def prime_factorize(n):\n",
    "    b = [1]\n",
    "    if n in range(1, 50):\n",
    "        for c in range(2, n + 1):\n",
    "            while n % c == 0:\n",
    "                b.append(c)\n",
    "                n /= c         \n",
    "                print(*b[::-1])\n",
    "    else: \n",
    "        print(\"Out of range!\")\n",
    "\n",
    "prime_factorize(17)\n",
    "prime_factorize(0)\n",
    "prime_factorize(100)"
   ]
  },
  {
   "cell_type": "code",
   "execution_count": null,
   "metadata": {},
   "outputs": [],
   "source": []
  }
 ],
 "metadata": {
  "kernelspec": {
   "display_name": "Python 3",
   "language": "python",
   "name": "python3"
  },
  "language_info": {
   "codemirror_mode": {
    "name": "ipython",
    "version": 3
   },
   "file_extension": ".py",
   "mimetype": "text/x-python",
   "name": "python",
   "nbconvert_exporter": "python",
   "pygments_lexer": "ipython3",
   "version": "3.9.6"
  },
  "orig_nbformat": 4,
  "vscode": {
   "interpreter": {
    "hash": "31f2aee4e71d21fbe5cf8b01ff0e069b9275f58929596ceb00d14d90e3e16cd6"
   }
  }
 },
 "nbformat": 4,
 "nbformat_minor": 2
}
