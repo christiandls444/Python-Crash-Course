{
 "cells": [
  {
   "attachments": {},
   "cell_type": "markdown",
   "metadata": {},
   "source": [
    "### Python Operators\n",
    "- Arithmetic Operators\n",
    "- Assignment Operators\n",
    "- Comparison Operators\n",
    "- Logical Operators"
   ]
  },
  {
   "attachments": {},
   "cell_type": "markdown",
   "metadata": {},
   "source": [
    "### Arithmetic"
   ]
  },
  {
   "cell_type": "code",
   "execution_count": 10,
   "metadata": {},
   "outputs": [
    {
     "name": "stdout",
     "output_type": "stream",
     "text": [
      "Addition 2 + 3 = 5\n",
      "-1\n",
      "6\n",
      "0.6666666666666666\n",
      "2\n",
      "8\n",
      "0\n"
     ]
    }
   ],
   "source": [
    "var_one = 2\n",
    "var_two = 3\n",
    "\n",
    "\n",
    "# Addition\n",
    "add = var_one + var_two\n",
    "print(\"Addition\",var_one,\"+\",var_two,\"=\",add)\n",
    "\n",
    "# Subtraction\n",
    "sub = var_one - var_two\n",
    "print(\"Subtraction\",var_one,\"-\",var_two,\"=\",sub)\n",
    "\n",
    "# Multiplication\n",
    "mul = var_one * var_two\n",
    "print(\"Multiplication\",var_one,\"*\",var_two,\"=\",mul)\n",
    "\n",
    "# Division\n",
    "div = var_one / var_two\n",
    "print(\"Division\",var_one,\"/\",var_two,\"=\",div)\n",
    "\n",
    "# Modulus\n",
    "mod = var_one % var_two\n",
    "print(\"Modulus\",var_one,\"%\",var_two,\"=\",mod)\n",
    "\n",
    "# Exponentiation\n",
    "exp = var_one ** var_two\n",
    "print(\"Exponentiation\",var_one,\"**\",var_two,\"=\",exp)\n",
    "\n",
    "# Floor division\n",
    "floor_div = var_one // var_two\n",
    "print(\"Floor division\",var_one,\"//\",var_two,\"=\",floor_div)\n"
   ]
  },
  {
   "cell_type": "markdown",
   "metadata": {},
   "source": []
  }
 ],
 "metadata": {
  "kernelspec": {
   "display_name": "Python 3",
   "language": "python",
   "name": "python3"
  },
  "language_info": {
   "codemirror_mode": {
    "name": "ipython",
    "version": 3
   },
   "file_extension": ".py",
   "mimetype": "text/x-python",
   "name": "python",
   "nbconvert_exporter": "python",
   "pygments_lexer": "ipython3",
   "version": "3.9.6"
  },
  "orig_nbformat": 4,
  "vscode": {
   "interpreter": {
    "hash": "31f2aee4e71d21fbe5cf8b01ff0e069b9275f58929596ceb00d14d90e3e16cd6"
   }
  }
 },
 "nbformat": 4,
 "nbformat_minor": 2
}
