{
 "cells": [
  {
   "attachments": {},
   "cell_type": "markdown",
   "metadata": {},
   "source": [
    "### Object"
   ]
  },
  {
   "cell_type": "code",
   "execution_count": 15,
   "metadata": {},
   "outputs": [
    {
     "name": "stdout",
     "output_type": "stream",
     "text": [
      "Hello, my name is Christian M. De Los Santos , and I recently earned a BS in Computer Science with a 1.75 GPA from the Eulogio Amang Rodriguez Institute of Science and Technology in Manila, Philippines.\n"
     ]
    }
   ],
   "source": [
    "class introduce_myself:\n",
    "  \n",
    "  def __init__(self, fullname, course, university, address, average):\n",
    "    self.fullname = fullname\n",
    "    self.course = course\n",
    "    self.university = university\n",
    "    self.address = address\n",
    "    self.average = average\n",
    "\n",
    "  def myfunc(self):\n",
    "    print(\"Hello, my name is \" + self.fullname + \" , and I recently earned a \" + self.course + \" with a \" + str(self.average) + \" GPA from the \" + self.university + \" in \" + self.address + \".\")\n",
    "\n",
    "param = introduce_myself(\"Christian M. De Los Santos\", \"BS in Computer Science\", \"Eulogio Amang Rodriguez Institute of Science and Technology\", \"Manila, Philippines\", 1.75)\n",
    "param.myfunc()"
   ]
  },
  {
   "attachments": {},
   "cell_type": "markdown",
   "metadata": {},
   "source": [
    "### Data Structure Basics"
   ]
  },
  {
   "cell_type": "code",
   "execution_count": 21,
   "metadata": {},
   "outputs": [
    {
     "name": "stdout",
     "output_type": "stream",
     "text": [
      "[]\n",
      "[1, 2, 3, 'example', 1.75, False]\n"
     ]
    }
   ],
   "source": [
    "# List\n",
    "\n",
    "# Create empty list\n",
    "my_list = []\n",
    "print(my_list)\n",
    "\n",
    "# Create list with data\n",
    "my_list = [1, 2, 3, 'example', 1.75, True==False]\n",
    "print(my_list)"
   ]
  },
  {
   "cell_type": "code",
   "execution_count": 23,
   "metadata": {},
   "outputs": [
    {
     "name": "stdout",
     "output_type": "stream",
     "text": [
      "{}\n",
      "{1: 'Python', 2: 'C++', 3: 'C'}\n"
     ]
    }
   ],
   "source": [
    "# Dictionary\n",
    "\n",
    "# Create empty dictionary\n",
    "my_dict = {}\n",
    "print(my_dict)\n",
    "\n",
    "# Create dictionary with elements\n",
    "my_dict = {1: 'Python', 2: 'C++', 3: 'C'}\n",
    "print(my_dict)"
   ]
  },
  {
   "cell_type": "code",
   "execution_count": 24,
   "metadata": {},
   "outputs": [
    {
     "name": "stdout",
     "output_type": "stream",
     "text": [
      "()\n",
      "(1, 2, 3)\n"
     ]
    }
   ],
   "source": [
    "# Tuple\n",
    "\n",
    "# Create empty tuple\n",
    "my_tuple = ()\n",
    "print(my_tuple)\n",
    "\n",
    "# Create tuple with elements\n",
    "my_tuple = (1, 2, 3)\n",
    "print(my_tuple) "
   ]
  },
  {
   "cell_type": "code",
   "execution_count": 26,
   "metadata": {},
   "outputs": [
    {
     "name": "stdout",
     "output_type": "stream",
     "text": [
      "(1, 2, 3)\n",
      "1\n",
      "2\n",
      "3\n",
      "example\n",
      "(1, 2, 3, 'example')\n",
      "1\n",
      "(1, 2, 3, 'example')\n",
      "p\n"
     ]
    }
   ],
   "source": [
    "# Sets\n",
    "\n",
    "# Create tuple with elements\n",
    "my_tuple = (1, 2, 3)\n",
    "print(my_tuple) \n",
    "\n",
    "# Access elements\n",
    "my_tuple2 = (1, 2, 3, 'example1',True==False) \n",
    "for x in my_tuple2:\n",
    "    print(x)\n",
    "print(my_tuple2)\n",
    "print(my_tuple2[0])\n",
    "print(my_tuple2[:])\n",
    "print(my_tuple2[3][4])"
   ]
  },
  {
   "cell_type": "code",
   "execution_count": null,
   "metadata": {},
   "outputs": [],
   "source": []
  }
 ],
 "metadata": {
  "kernelspec": {
   "display_name": "Python 3",
   "language": "python",
   "name": "python3"
  },
  "language_info": {
   "codemirror_mode": {
    "name": "ipython",
    "version": 3
   },
   "file_extension": ".py",
   "mimetype": "text/x-python",
   "name": "python",
   "nbconvert_exporter": "python",
   "pygments_lexer": "ipython3",
   "version": "3.9.6 (default, Oct 18 2022, 12:41:40) \n[Clang 14.0.0 (clang-1400.0.29.202)]"
  },
  "orig_nbformat": 4,
  "vscode": {
   "interpreter": {
    "hash": "31f2aee4e71d21fbe5cf8b01ff0e069b9275f58929596ceb00d14d90e3e16cd6"
   }
  }
 },
 "nbformat": 4,
 "nbformat_minor": 2
}
