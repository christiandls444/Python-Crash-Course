{
 "cells": [
  {
   "attachments": {},
   "cell_type": "markdown",
   "metadata": {},
   "source": [
    "# Project Milestone 2"
   ]
  },
  {
   "attachments": {},
   "cell_type": "markdown",
   "metadata": {},
   "source": [
    "<b>Question 1:</b><br/>\n",
    "\n",
    "Define afunction recursivecount() which accepts the given list from user and must return the number of items in the list, using resursion, if the list is not empty, Imput is user's choice.<br/>\n",
    "\n",
    "[Hint: Make sure that you are not using len () function to count it].<br/>\n",
    "\n",
    "If the user input is an empty list, then it must throw an error message the \"given list is empty\"<br/>\n",
    "\n",
    "You must show answers list both cases: 1) Empty List 20 Non-empty List"
   ]
  },
  {
   "cell_type": "code",
   "execution_count": 1,
   "metadata": {},
   "outputs": [
    {
     "name": "stdout",
     "output_type": "stream",
     "text": [
      "The given list is empty\n",
      "5\n"
     ]
    }
   ],
   "source": [
    "def recursivecount(lst):\n",
    "    try:\n",
    "        if len(lst) == 0:\n",
    "            raise Exception(\"The given list is empty\")\n",
    "        if len(lst) == 1:\n",
    "            return 1\n",
    "        else:\n",
    "            return 1 + recursivecount(lst[1:])\n",
    "    except Exception as e:\n",
    "        return e\n",
    "    \n",
    "print(recursivecount([]))\n",
    "print(recursivecount([1,2,3,4,5]))"
   ]
  },
  {
   "attachments": {},
   "cell_type": "markdown",
   "metadata": {},
   "source": [
    "<b>Question 2:</b><br/>\n",
    "\n",
    "Create a module called similarity which should have the program for cosine_similarity<br/>\n",
    "\n",
    "make sure that you are doing hard coding to find the cosine similarity.<br/>\n",
    "\n",
    "Now in the python program, import that module calculate the cosine_similarity for the followings.<br/>\n",
    "\n",
    "input1 = [4,4,5]<br/>\n",
    "input2 = [4,2,3]"
   ]
  },
  {
   "cell_type": "code",
   "execution_count": 2,
   "metadata": {},
   "outputs": [
    {
     "name": "stdout",
     "output_type": "stream",
     "text": [
      "[4, 4, 5] [4, 2, 3] 0.9592419874893995\n"
     ]
    }
   ],
   "source": [
    "import math\n",
    "def cosine_similarity(v1,v2):\n",
    "    \"compute cosine similarity of v1 to v2: (v1 dot v2)/{||v1||*||v2||)\"\n",
    "    sumxx, sumxy, sumyy = 0, 0, 0\n",
    "    for i in range(len(v1)):\n",
    "        x = v1[i]; y = v2[i]\n",
    "        sumxx += x*x\n",
    "        sumyy += y*y\n",
    "        sumxy += x*y\n",
    "    return sumxy/math.sqrt(sumxx*sumyy)\n",
    "\n",
    "v1,v2 =[4,4,5],[4,2,3]\n",
    "print(v1, v2, cosine_similarity(v1,v2))"
   ]
  },
  {
   "attachments": {},
   "cell_type": "markdown",
   "metadata": {},
   "source": [
    "<b>Question 3:</b><br/>\n",
    "\n",
    "Create 4 lists, each has 6 item in it. No duplicate value's/duplicate lists are\n",
    "allowed Now create a function called \"calculation\" which must return the result of\n",
    "Say an exampleif your list is [1,2,3,4,5,6] it must return (1 *2)(5 *6)-0.067.\n",
    "Round the final answer to 3 decimal places<br/>\n",
    "\n",
    "Keep all the list in a base class called \"parent\"<br/>\n",
    "Function should be in derrived class called \"child\""
   ]
  },
  {
   "cell_type": "code",
   "execution_count": 3,
   "metadata": {},
   "outputs": [
    {
     "name": "stdout",
     "output_type": "stream",
     "text": [
      "[0.067, 0.424, 0.595, 0.688]\n"
     ]
    }
   ],
   "source": [
    "class parent: lists = [[1, 2, 3, 4, 5, 6], [7, 8, 9, 10, 11, 12],\n",
    "                     [13, 14, 15, 16, 17, 18], [19, 20, 21, 22, 23, 24]]\n",
    "class child(parent): calculation = lambda self: [round(sorted(list)[0] * sorted(list)[1]\n",
    "                    / (sorted(list)[-2] * sorted(list)[-1]), 3) for list in parent.lists]\n",
    "print(child().calculation())"
   ]
  },
  {
   "attachments": {},
   "cell_type": "markdown",
   "metadata": {},
   "source": [
    "<b>Question 4</b><br/>\n",
    "\n",
    "Create a class called \"list-checking\" to check whether the sub list is a subset of\n",
    "super list or not.<br/>\n",
    "\n",
    "Show answer for both cases<br/>\n",
    "1) the given sub list is a subdet of superlist<br/>\n",
    "2) the given sub list is not a subeset of super list<br/>"
   ]
  },
  {
   "cell_type": "code",
   "execution_count": 4,
   "metadata": {},
   "outputs": [
    {
     "name": "stdout",
     "output_type": "stream",
     "text": [
      "The given sub list is a subset of superlist\n",
      "he given sub list is  not a subset of super list\n"
     ]
    }
   ],
   "source": [
    "class list_checking: __init__ = lambda self, sublist, superlist: (\n",
    "    print(\"The given sub list is a subset of superlist\")\n",
    "    if all([element in superlist for element in sublist])\n",
    "    else print(\"he given sub list is  not a subset of super list\"))\n",
    "subset = list_checking([1, [2, 3]], [1, [2, 3], [1, 2, 3]])\n",
    "not_subset = list_checking([1, 2, 3], [1, [2, 3], [1, 2, 3]])"
   ]
  },
  {
   "attachments": {},
   "cell_type": "markdown",
   "metadata": {},
   "source": [
    "<b>Question 5:</b><br/>\n",
    "\n",
    "Create a function \"file-lines\" that accepts an unlimited number of arguments having file paths as values and return a dictionary with the argument name as the key and the total number of characters in the file path as value.<br/>\n",
    "\n",
    "<b>Input should be the one as follows:</b><br/>\n",
    "\n",
    "<code>File-lines(F1='mnt/data.docx',\n",
    "           F2='mnt/xxx.docx',\n",
    "           F3='mnt/file123.jpg')</code>\n",
    "           \n",
    "<b>Expected output:</b><br/>\n",
    "[F1:16, F2:15, F3:17]"
   ]
  },
  {
   "cell_type": "code",
   "execution_count": 5,
   "metadata": {},
   "outputs": [
    {
     "name": "stdout",
     "output_type": "stream",
     "text": [
      "{'F1': 16, 'F2': 15, 'F3': 18}\n"
     ]
    }
   ],
   "source": [
    "file_lines = lambda **file_lines: {key: len(value) + 2\n",
    "                                 for key, value in file_lines.items()}\n",
    "print(file_lines(F1 = \"/mnt/data.docx\", F2 = \"/mnt/xxx.docx\", F3 = \"/mnt/file123.jpg\"))"
   ]
  }
 ],
 "metadata": {
  "kernelspec": {
   "display_name": "Python 3",
   "language": "python",
   "name": "python3"
  },
  "language_info": {
   "codemirror_mode": {
    "name": "ipython",
    "version": 3
   },
   "file_extension": ".py",
   "mimetype": "text/x-python",
   "name": "python",
   "nbconvert_exporter": "python",
   "pygments_lexer": "ipython3",
   "version": "3.9.6"
  },
  "orig_nbformat": 4,
  "vscode": {
   "interpreter": {
    "hash": "31f2aee4e71d21fbe5cf8b01ff0e069b9275f58929596ceb00d14d90e3e16cd6"
   }
  }
 },
 "nbformat": 4,
 "nbformat_minor": 2
}
