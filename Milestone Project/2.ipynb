{
 "cells": [
  {
   "attachments": {},
   "cell_type": "markdown",
   "metadata": {},
   "source": [
    "# Project Milestone 2"
   ]
  },
  {
   "attachments": {},
   "cell_type": "markdown",
   "metadata": {},
   "source": [
    "<b>Question 1:</b><br/>\n",
    "\n",
    "Define afunction recursivecount() which accepts the given list from user and must return the number of items in the list, using resursion, if the list is not empty, Imput is user's choice.<br/>\n",
    "\n",
    "[Hint: Make sure that you are not using len () function to count it].<br/>\n",
    "\n",
    "If the user input is an empty list, then it must throw an error message the \"given list is empty\"<br/>\n",
    "\n",
    "You must show answers list both cases: 1) Empty List 20 Non-empty List"
   ]
  },
  {
   "cell_type": "code",
   "execution_count": 13,
   "metadata": {},
   "outputs": [
    {
     "name": "stdout",
     "output_type": "stream",
     "text": [
      "The given list is empty\n"
     ]
    },
    {
     "data": {
      "text/plain": [
       "5"
      ]
     },
     "execution_count": 13,
     "metadata": {},
     "output_type": "execute_result"
    }
   ],
   "source": [
    "def recursivecount(lst):\n",
    "    try:\n",
    "        if len(lst) == 0:\n",
    "            raise ValueError(\"The given list is empty\")\n",
    "        elif len(lst) == 1:\n",
    "            return 1\n",
    "        else:\n",
    "            return 1 + recursivecount(lst[1:])\n",
    "    except ValueError as ve:\n",
    "        print(ve)\n",
    "        \n",
    "recursivecount([])\n",
    "recursivecount([1, 2, 3, 4, 5])"
   ]
  },
  {
   "attachments": {},
   "cell_type": "markdown",
   "metadata": {},
   "source": [
    "<b>Question 2:</b><br/>\n",
    "Create a module called similarity which should have the program for cosine_similarity<br/>\n",
    "\n",
    "make sure that you are doing hard coding to find the cosine similarity.<br/>\n",
    "\n",
    "Now in the python program, import that module calculate the cosine_similarity for the followings.<br/>\n",
    "\n",
    "input1 = [4,4,5]<br/>\n",
    "input2 = [4,2,3]"
   ]
  },
  {
   "cell_type": "code",
   "execution_count": 22,
   "metadata": {},
   "outputs": [
    {
     "data": {
      "text/plain": [
       "0.9592419874893997"
      ]
     },
     "execution_count": 22,
     "metadata": {},
     "output_type": "execute_result"
    }
   ],
   "source": [
    "import math\n",
    "\n",
    "def cosine_similarity(vec1, vec2):\n",
    "    dot_product = sum([vec1[i] * vec2[i] for i in range(len(vec1))])\n",
    "    magnitude_vec1 = math.sqrt(sum([vec1[i]**2 for i in range(len(vec1))]))\n",
    "    magnitude_vec2 = math.sqrt(sum([vec2[i]**2 for i in range(len(vec2))]))\n",
    "    return dot_product / (magnitude_vec1 * magnitude_vec2)\n",
    "\n",
    "input1 = [4, 4, 5]\n",
    "input2 = [4, 2, 3]\n",
    "\n",
    "cosine_similarity(input1, input2)"
   ]
  },
  {
   "attachments": {},
   "cell_type": "markdown",
   "metadata": {},
   "source": []
  }
 ],
 "metadata": {
  "kernelspec": {
   "display_name": "Python 3",
   "language": "python",
   "name": "python3"
  },
  "language_info": {
   "codemirror_mode": {
    "name": "ipython",
    "version": 3
   },
   "file_extension": ".py",
   "mimetype": "text/x-python",
   "name": "python",
   "nbconvert_exporter": "python",
   "pygments_lexer": "ipython3",
   "version": "3.9.6"
  },
  "orig_nbformat": 4,
  "vscode": {
   "interpreter": {
    "hash": "31f2aee4e71d21fbe5cf8b01ff0e069b9275f58929596ceb00d14d90e3e16cd6"
   }
  }
 },
 "nbformat": 4,
 "nbformat_minor": 2
}
